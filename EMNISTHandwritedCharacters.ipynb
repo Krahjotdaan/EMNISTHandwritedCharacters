{
  "nbformat": 4,
  "nbformat_minor": 0,
  "metadata": {
    "colab": {
      "provenance": [],
      "gpuType": "T4",
      "authorship_tag": "ABX9TyPBLiNZPI5AwBl5lQMZvmIP",
      "include_colab_link": true
    },
    "kernelspec": {
      "name": "python3",
      "display_name": "Python 3"
    },
    "language_info": {
      "name": "python"
    },
    "accelerator": "GPU"
  },
  "cells": [
    {
      "cell_type": "markdown",
      "metadata": {
        "id": "view-in-github",
        "colab_type": "text"
      },
      "source": [
        "<a href=\"https://colab.research.google.com/github/Krahjotdaan/EMNISTHandwritedCharacters/blob/main/EMNISTHandwritedCharacters.ipynb\" target=\"_parent\"><img src=\"https://colab.research.google.com/assets/colab-badge.svg\" alt=\"Open In Colab\"/></a>"
      ]
    },
    {
      "cell_type": "markdown",
      "source": [
        "# Load data"
      ],
      "metadata": {
        "id": "fVeNJwUGWH_H"
      }
    },
    {
      "cell_type": "code",
      "source": [
        "import matplotlib.pyplot as plt\n",
        "import numpy as np\n",
        "import pandas as pd\n",
        "import tensorflow as tf\n",
        "import keras as k\n",
        "from keras.layers import Dense, Conv2D, MaxPooling2D, Flatten, Dropout, BatchNormalization\n",
        "from keras import Sequential\n",
        "from sklearn.model_selection import train_test_split"
      ],
      "metadata": {
        "id": "v6Xry85cPLZc"
      },
      "execution_count": 1,
      "outputs": []
    },
    {
      "cell_type": "code",
      "source": [
        "train = pd.read_csv('emnist-balanced-train.csv', header=None)\n",
        "test = pd.read_csv('emnist-balanced-test.csv', header=None)"
      ],
      "metadata": {
        "id": "CDWmMztPPUir"
      },
      "execution_count": 2,
      "outputs": []
    },
    {
      "cell_type": "code",
      "source": [
        "train.shape, test.shape"
      ],
      "metadata": {
        "colab": {
          "base_uri": "https://localhost:8080/"
        },
        "id": "_jqnmqqxTO7G",
        "outputId": "97ce1fba-2a4d-4804-baf1-fc801731033f"
      },
      "execution_count": 3,
      "outputs": [
        {
          "output_type": "execute_result",
          "data": {
            "text/plain": [
              "((112800, 785), (18800, 785))"
            ]
          },
          "metadata": {},
          "execution_count": 3
        }
      ]
    },
    {
      "cell_type": "code",
      "source": [
        "labels = {\n",
        " 10: 'A',\n",
        " 11: 'B',\n",
        " 12: 'C',\n",
        " 13: 'D',\n",
        " 14: 'E',\n",
        " 15: 'F',\n",
        " 16: 'G',\n",
        " 17: 'H',\n",
        " 18: 'I',\n",
        " 19: 'J',\n",
        " 20: 'K',\n",
        " 21: 'L',\n",
        " 22: 'M',\n",
        " 23: 'N',\n",
        " 24: 'O',\n",
        " 25: 'P',\n",
        " 26: 'Q',\n",
        " 27: 'R',\n",
        " 28: 'S',\n",
        " 29: 'T',\n",
        " 30: 'U',\n",
        " 31: 'V',\n",
        " 32: 'W',\n",
        " 33: 'X',\n",
        " 34: 'Y',\n",
        " 35: 'Z'}"
      ],
      "metadata": {
        "id": "Hg-eA1usVMqU"
      },
      "execution_count": 4,
      "outputs": []
    },
    {
      "cell_type": "code",
      "source": [
        "train = train[train[0].isin(np.arange(10, 36))] # only capital letters"
      ],
      "metadata": {
        "id": "oxRBrebLPmxG"
      },
      "execution_count": 5,
      "outputs": []
    },
    {
      "cell_type": "code",
      "source": [
        "train[0].describe()"
      ],
      "metadata": {
        "colab": {
          "base_uri": "https://localhost:8080/"
        },
        "id": "ypwcOvN2bZW5",
        "outputId": "9e340b97-c72a-4067-ca38-9b9c5d258ecc"
      },
      "execution_count": 6,
      "outputs": [
        {
          "output_type": "execute_result",
          "data": {
            "text/plain": [
              "count    62400.00000\n",
              "mean        22.50000\n",
              "std          7.50006\n",
              "min         10.00000\n",
              "25%         16.00000\n",
              "50%         22.50000\n",
              "75%         29.00000\n",
              "max         35.00000\n",
              "Name: 0, dtype: float64"
            ]
          },
          "metadata": {},
          "execution_count": 6
        }
      ]
    },
    {
      "cell_type": "code",
      "source": [
        "train.reset_index(inplace=True)\n",
        "train"
      ],
      "metadata": {
        "colab": {
          "base_uri": "https://localhost:8080/",
          "height": 424
        },
        "id": "Otfb__UgVi4Y",
        "outputId": "456b26ce-fdca-45a0-99f0-ed26aeb3d82f"
      },
      "execution_count": 7,
      "outputs": [
        {
          "output_type": "execute_result",
          "data": {
            "text/plain": [
              "        index   0  1  2  3  4  5  6  7  8  ...  775  776  777  778  779  780  \\\n",
              "0           3  15  0  0  0  0  0  0  0  0  ...    0    0    0    0    0    0   \n",
              "1           6  26  0  0  0  0  0  0  0  0  ...    0    0    0    0    0    0   \n",
              "2           7  32  0  0  0  0  0  0  0  0  ...    0    0    0    0    0    0   \n",
              "3           8  20  0  0  0  0  0  0  0  0  ...    0    0    0    0    0    0   \n",
              "4          12  15  0  0  0  0  0  0  0  0  ...    0    0    0    0    0    0   \n",
              "...       ...  .. .. .. .. .. .. .. .. ..  ...  ...  ...  ...  ...  ...  ...   \n",
              "62395  112793  33  0  0  0  0  0  0  0  0  ...    0    0    0    0    0    0   \n",
              "62396  112795  22  0  0  0  0  0  0  0  0  ...    0    0    0    0    0    0   \n",
              "62397  112796  17  0  0  0  0  0  0  0  0  ...    0    0    0    0    0    0   \n",
              "62398  112797  23  0  0  0  0  0  0  0  0  ...    0    0    0    0    0    0   \n",
              "62399  112798  31  0  0  0  0  0  0  0  0  ...    0    0    0    0    0    0   \n",
              "\n",
              "       781  782  783  784  \n",
              "0        0    0    0    0  \n",
              "1        0    0    0    0  \n",
              "2        0    0    0    0  \n",
              "3        0    0    0    0  \n",
              "4        0    0    0    0  \n",
              "...    ...  ...  ...  ...  \n",
              "62395    0    0    0    0  \n",
              "62396    0    0    0    0  \n",
              "62397    0    0    0    0  \n",
              "62398    0    0    0    0  \n",
              "62399    0    0    0    0  \n",
              "\n",
              "[62400 rows x 786 columns]"
            ],
            "text/html": [
              "\n",
              "  <div id=\"df-1f680d89-d291-41e3-a736-e9c8a92c986d\" class=\"colab-df-container\">\n",
              "    <div>\n",
              "<style scoped>\n",
              "    .dataframe tbody tr th:only-of-type {\n",
              "        vertical-align: middle;\n",
              "    }\n",
              "\n",
              "    .dataframe tbody tr th {\n",
              "        vertical-align: top;\n",
              "    }\n",
              "\n",
              "    .dataframe thead th {\n",
              "        text-align: right;\n",
              "    }\n",
              "</style>\n",
              "<table border=\"1\" class=\"dataframe\">\n",
              "  <thead>\n",
              "    <tr style=\"text-align: right;\">\n",
              "      <th></th>\n",
              "      <th>index</th>\n",
              "      <th>0</th>\n",
              "      <th>1</th>\n",
              "      <th>2</th>\n",
              "      <th>3</th>\n",
              "      <th>4</th>\n",
              "      <th>5</th>\n",
              "      <th>6</th>\n",
              "      <th>7</th>\n",
              "      <th>8</th>\n",
              "      <th>...</th>\n",
              "      <th>775</th>\n",
              "      <th>776</th>\n",
              "      <th>777</th>\n",
              "      <th>778</th>\n",
              "      <th>779</th>\n",
              "      <th>780</th>\n",
              "      <th>781</th>\n",
              "      <th>782</th>\n",
              "      <th>783</th>\n",
              "      <th>784</th>\n",
              "    </tr>\n",
              "  </thead>\n",
              "  <tbody>\n",
              "    <tr>\n",
              "      <th>0</th>\n",
              "      <td>3</td>\n",
              "      <td>15</td>\n",
              "      <td>0</td>\n",
              "      <td>0</td>\n",
              "      <td>0</td>\n",
              "      <td>0</td>\n",
              "      <td>0</td>\n",
              "      <td>0</td>\n",
              "      <td>0</td>\n",
              "      <td>0</td>\n",
              "      <td>...</td>\n",
              "      <td>0</td>\n",
              "      <td>0</td>\n",
              "      <td>0</td>\n",
              "      <td>0</td>\n",
              "      <td>0</td>\n",
              "      <td>0</td>\n",
              "      <td>0</td>\n",
              "      <td>0</td>\n",
              "      <td>0</td>\n",
              "      <td>0</td>\n",
              "    </tr>\n",
              "    <tr>\n",
              "      <th>1</th>\n",
              "      <td>6</td>\n",
              "      <td>26</td>\n",
              "      <td>0</td>\n",
              "      <td>0</td>\n",
              "      <td>0</td>\n",
              "      <td>0</td>\n",
              "      <td>0</td>\n",
              "      <td>0</td>\n",
              "      <td>0</td>\n",
              "      <td>0</td>\n",
              "      <td>...</td>\n",
              "      <td>0</td>\n",
              "      <td>0</td>\n",
              "      <td>0</td>\n",
              "      <td>0</td>\n",
              "      <td>0</td>\n",
              "      <td>0</td>\n",
              "      <td>0</td>\n",
              "      <td>0</td>\n",
              "      <td>0</td>\n",
              "      <td>0</td>\n",
              "    </tr>\n",
              "    <tr>\n",
              "      <th>2</th>\n",
              "      <td>7</td>\n",
              "      <td>32</td>\n",
              "      <td>0</td>\n",
              "      <td>0</td>\n",
              "      <td>0</td>\n",
              "      <td>0</td>\n",
              "      <td>0</td>\n",
              "      <td>0</td>\n",
              "      <td>0</td>\n",
              "      <td>0</td>\n",
              "      <td>...</td>\n",
              "      <td>0</td>\n",
              "      <td>0</td>\n",
              "      <td>0</td>\n",
              "      <td>0</td>\n",
              "      <td>0</td>\n",
              "      <td>0</td>\n",
              "      <td>0</td>\n",
              "      <td>0</td>\n",
              "      <td>0</td>\n",
              "      <td>0</td>\n",
              "    </tr>\n",
              "    <tr>\n",
              "      <th>3</th>\n",
              "      <td>8</td>\n",
              "      <td>20</td>\n",
              "      <td>0</td>\n",
              "      <td>0</td>\n",
              "      <td>0</td>\n",
              "      <td>0</td>\n",
              "      <td>0</td>\n",
              "      <td>0</td>\n",
              "      <td>0</td>\n",
              "      <td>0</td>\n",
              "      <td>...</td>\n",
              "      <td>0</td>\n",
              "      <td>0</td>\n",
              "      <td>0</td>\n",
              "      <td>0</td>\n",
              "      <td>0</td>\n",
              "      <td>0</td>\n",
              "      <td>0</td>\n",
              "      <td>0</td>\n",
              "      <td>0</td>\n",
              "      <td>0</td>\n",
              "    </tr>\n",
              "    <tr>\n",
              "      <th>4</th>\n",
              "      <td>12</td>\n",
              "      <td>15</td>\n",
              "      <td>0</td>\n",
              "      <td>0</td>\n",
              "      <td>0</td>\n",
              "      <td>0</td>\n",
              "      <td>0</td>\n",
              "      <td>0</td>\n",
              "      <td>0</td>\n",
              "      <td>0</td>\n",
              "      <td>...</td>\n",
              "      <td>0</td>\n",
              "      <td>0</td>\n",
              "      <td>0</td>\n",
              "      <td>0</td>\n",
              "      <td>0</td>\n",
              "      <td>0</td>\n",
              "      <td>0</td>\n",
              "      <td>0</td>\n",
              "      <td>0</td>\n",
              "      <td>0</td>\n",
              "    </tr>\n",
              "    <tr>\n",
              "      <th>...</th>\n",
              "      <td>...</td>\n",
              "      <td>...</td>\n",
              "      <td>...</td>\n",
              "      <td>...</td>\n",
              "      <td>...</td>\n",
              "      <td>...</td>\n",
              "      <td>...</td>\n",
              "      <td>...</td>\n",
              "      <td>...</td>\n",
              "      <td>...</td>\n",
              "      <td>...</td>\n",
              "      <td>...</td>\n",
              "      <td>...</td>\n",
              "      <td>...</td>\n",
              "      <td>...</td>\n",
              "      <td>...</td>\n",
              "      <td>...</td>\n",
              "      <td>...</td>\n",
              "      <td>...</td>\n",
              "      <td>...</td>\n",
              "      <td>...</td>\n",
              "    </tr>\n",
              "    <tr>\n",
              "      <th>62395</th>\n",
              "      <td>112793</td>\n",
              "      <td>33</td>\n",
              "      <td>0</td>\n",
              "      <td>0</td>\n",
              "      <td>0</td>\n",
              "      <td>0</td>\n",
              "      <td>0</td>\n",
              "      <td>0</td>\n",
              "      <td>0</td>\n",
              "      <td>0</td>\n",
              "      <td>...</td>\n",
              "      <td>0</td>\n",
              "      <td>0</td>\n",
              "      <td>0</td>\n",
              "      <td>0</td>\n",
              "      <td>0</td>\n",
              "      <td>0</td>\n",
              "      <td>0</td>\n",
              "      <td>0</td>\n",
              "      <td>0</td>\n",
              "      <td>0</td>\n",
              "    </tr>\n",
              "    <tr>\n",
              "      <th>62396</th>\n",
              "      <td>112795</td>\n",
              "      <td>22</td>\n",
              "      <td>0</td>\n",
              "      <td>0</td>\n",
              "      <td>0</td>\n",
              "      <td>0</td>\n",
              "      <td>0</td>\n",
              "      <td>0</td>\n",
              "      <td>0</td>\n",
              "      <td>0</td>\n",
              "      <td>...</td>\n",
              "      <td>0</td>\n",
              "      <td>0</td>\n",
              "      <td>0</td>\n",
              "      <td>0</td>\n",
              "      <td>0</td>\n",
              "      <td>0</td>\n",
              "      <td>0</td>\n",
              "      <td>0</td>\n",
              "      <td>0</td>\n",
              "      <td>0</td>\n",
              "    </tr>\n",
              "    <tr>\n",
              "      <th>62397</th>\n",
              "      <td>112796</td>\n",
              "      <td>17</td>\n",
              "      <td>0</td>\n",
              "      <td>0</td>\n",
              "      <td>0</td>\n",
              "      <td>0</td>\n",
              "      <td>0</td>\n",
              "      <td>0</td>\n",
              "      <td>0</td>\n",
              "      <td>0</td>\n",
              "      <td>...</td>\n",
              "      <td>0</td>\n",
              "      <td>0</td>\n",
              "      <td>0</td>\n",
              "      <td>0</td>\n",
              "      <td>0</td>\n",
              "      <td>0</td>\n",
              "      <td>0</td>\n",
              "      <td>0</td>\n",
              "      <td>0</td>\n",
              "      <td>0</td>\n",
              "    </tr>\n",
              "    <tr>\n",
              "      <th>62398</th>\n",
              "      <td>112797</td>\n",
              "      <td>23</td>\n",
              "      <td>0</td>\n",
              "      <td>0</td>\n",
              "      <td>0</td>\n",
              "      <td>0</td>\n",
              "      <td>0</td>\n",
              "      <td>0</td>\n",
              "      <td>0</td>\n",
              "      <td>0</td>\n",
              "      <td>...</td>\n",
              "      <td>0</td>\n",
              "      <td>0</td>\n",
              "      <td>0</td>\n",
              "      <td>0</td>\n",
              "      <td>0</td>\n",
              "      <td>0</td>\n",
              "      <td>0</td>\n",
              "      <td>0</td>\n",
              "      <td>0</td>\n",
              "      <td>0</td>\n",
              "    </tr>\n",
              "    <tr>\n",
              "      <th>62399</th>\n",
              "      <td>112798</td>\n",
              "      <td>31</td>\n",
              "      <td>0</td>\n",
              "      <td>0</td>\n",
              "      <td>0</td>\n",
              "      <td>0</td>\n",
              "      <td>0</td>\n",
              "      <td>0</td>\n",
              "      <td>0</td>\n",
              "      <td>0</td>\n",
              "      <td>...</td>\n",
              "      <td>0</td>\n",
              "      <td>0</td>\n",
              "      <td>0</td>\n",
              "      <td>0</td>\n",
              "      <td>0</td>\n",
              "      <td>0</td>\n",
              "      <td>0</td>\n",
              "      <td>0</td>\n",
              "      <td>0</td>\n",
              "      <td>0</td>\n",
              "    </tr>\n",
              "  </tbody>\n",
              "</table>\n",
              "<p>62400 rows × 786 columns</p>\n",
              "</div>\n",
              "    <div class=\"colab-df-buttons\">\n",
              "\n",
              "  <div class=\"colab-df-container\">\n",
              "    <button class=\"colab-df-convert\" onclick=\"convertToInteractive('df-1f680d89-d291-41e3-a736-e9c8a92c986d')\"\n",
              "            title=\"Convert this dataframe to an interactive table.\"\n",
              "            style=\"display:none;\">\n",
              "\n",
              "  <svg xmlns=\"http://www.w3.org/2000/svg\" height=\"24px\" viewBox=\"0 -960 960 960\">\n",
              "    <path d=\"M120-120v-720h720v720H120Zm60-500h600v-160H180v160Zm220 220h160v-160H400v160Zm0 220h160v-160H400v160ZM180-400h160v-160H180v160Zm440 0h160v-160H620v160ZM180-180h160v-160H180v160Zm440 0h160v-160H620v160Z\"/>\n",
              "  </svg>\n",
              "    </button>\n",
              "\n",
              "  <style>\n",
              "    .colab-df-container {\n",
              "      display:flex;\n",
              "      gap: 12px;\n",
              "    }\n",
              "\n",
              "    .colab-df-convert {\n",
              "      background-color: #E8F0FE;\n",
              "      border: none;\n",
              "      border-radius: 50%;\n",
              "      cursor: pointer;\n",
              "      display: none;\n",
              "      fill: #1967D2;\n",
              "      height: 32px;\n",
              "      padding: 0 0 0 0;\n",
              "      width: 32px;\n",
              "    }\n",
              "\n",
              "    .colab-df-convert:hover {\n",
              "      background-color: #E2EBFA;\n",
              "      box-shadow: 0px 1px 2px rgba(60, 64, 67, 0.3), 0px 1px 3px 1px rgba(60, 64, 67, 0.15);\n",
              "      fill: #174EA6;\n",
              "    }\n",
              "\n",
              "    .colab-df-buttons div {\n",
              "      margin-bottom: 4px;\n",
              "    }\n",
              "\n",
              "    [theme=dark] .colab-df-convert {\n",
              "      background-color: #3B4455;\n",
              "      fill: #D2E3FC;\n",
              "    }\n",
              "\n",
              "    [theme=dark] .colab-df-convert:hover {\n",
              "      background-color: #434B5C;\n",
              "      box-shadow: 0px 1px 3px 1px rgba(0, 0, 0, 0.15);\n",
              "      filter: drop-shadow(0px 1px 2px rgba(0, 0, 0, 0.3));\n",
              "      fill: #FFFFFF;\n",
              "    }\n",
              "  </style>\n",
              "\n",
              "    <script>\n",
              "      const buttonEl =\n",
              "        document.querySelector('#df-1f680d89-d291-41e3-a736-e9c8a92c986d button.colab-df-convert');\n",
              "      buttonEl.style.display =\n",
              "        google.colab.kernel.accessAllowed ? 'block' : 'none';\n",
              "\n",
              "      async function convertToInteractive(key) {\n",
              "        const element = document.querySelector('#df-1f680d89-d291-41e3-a736-e9c8a92c986d');\n",
              "        const dataTable =\n",
              "          await google.colab.kernel.invokeFunction('convertToInteractive',\n",
              "                                                    [key], {});\n",
              "        if (!dataTable) return;\n",
              "\n",
              "        const docLinkHtml = 'Like what you see? Visit the ' +\n",
              "          '<a target=\"_blank\" href=https://colab.research.google.com/notebooks/data_table.ipynb>data table notebook</a>'\n",
              "          + ' to learn more about interactive tables.';\n",
              "        element.innerHTML = '';\n",
              "        dataTable['output_type'] = 'display_data';\n",
              "        await google.colab.output.renderOutput(dataTable, element);\n",
              "        const docLink = document.createElement('div');\n",
              "        docLink.innerHTML = docLinkHtml;\n",
              "        element.appendChild(docLink);\n",
              "      }\n",
              "    </script>\n",
              "  </div>\n",
              "\n",
              "\n",
              "<div id=\"df-f9b526e1-2a6b-4cb6-ab03-ef8a8f9aa595\">\n",
              "  <button class=\"colab-df-quickchart\" onclick=\"quickchart('df-f9b526e1-2a6b-4cb6-ab03-ef8a8f9aa595')\"\n",
              "            title=\"Suggest charts\"\n",
              "            style=\"display:none;\">\n",
              "\n",
              "<svg xmlns=\"http://www.w3.org/2000/svg\" height=\"24px\"viewBox=\"0 0 24 24\"\n",
              "     width=\"24px\">\n",
              "    <g>\n",
              "        <path d=\"M19 3H5c-1.1 0-2 .9-2 2v14c0 1.1.9 2 2 2h14c1.1 0 2-.9 2-2V5c0-1.1-.9-2-2-2zM9 17H7v-7h2v7zm4 0h-2V7h2v10zm4 0h-2v-4h2v4z\"/>\n",
              "    </g>\n",
              "</svg>\n",
              "  </button>\n",
              "\n",
              "<style>\n",
              "  .colab-df-quickchart {\n",
              "      --bg-color: #E8F0FE;\n",
              "      --fill-color: #1967D2;\n",
              "      --hover-bg-color: #E2EBFA;\n",
              "      --hover-fill-color: #174EA6;\n",
              "      --disabled-fill-color: #AAA;\n",
              "      --disabled-bg-color: #DDD;\n",
              "  }\n",
              "\n",
              "  [theme=dark] .colab-df-quickchart {\n",
              "      --bg-color: #3B4455;\n",
              "      --fill-color: #D2E3FC;\n",
              "      --hover-bg-color: #434B5C;\n",
              "      --hover-fill-color: #FFFFFF;\n",
              "      --disabled-bg-color: #3B4455;\n",
              "      --disabled-fill-color: #666;\n",
              "  }\n",
              "\n",
              "  .colab-df-quickchart {\n",
              "    background-color: var(--bg-color);\n",
              "    border: none;\n",
              "    border-radius: 50%;\n",
              "    cursor: pointer;\n",
              "    display: none;\n",
              "    fill: var(--fill-color);\n",
              "    height: 32px;\n",
              "    padding: 0;\n",
              "    width: 32px;\n",
              "  }\n",
              "\n",
              "  .colab-df-quickchart:hover {\n",
              "    background-color: var(--hover-bg-color);\n",
              "    box-shadow: 0 1px 2px rgba(60, 64, 67, 0.3), 0 1px 3px 1px rgba(60, 64, 67, 0.15);\n",
              "    fill: var(--button-hover-fill-color);\n",
              "  }\n",
              "\n",
              "  .colab-df-quickchart-complete:disabled,\n",
              "  .colab-df-quickchart-complete:disabled:hover {\n",
              "    background-color: var(--disabled-bg-color);\n",
              "    fill: var(--disabled-fill-color);\n",
              "    box-shadow: none;\n",
              "  }\n",
              "\n",
              "  .colab-df-spinner {\n",
              "    border: 2px solid var(--fill-color);\n",
              "    border-color: transparent;\n",
              "    border-bottom-color: var(--fill-color);\n",
              "    animation:\n",
              "      spin 1s steps(1) infinite;\n",
              "  }\n",
              "\n",
              "  @keyframes spin {\n",
              "    0% {\n",
              "      border-color: transparent;\n",
              "      border-bottom-color: var(--fill-color);\n",
              "      border-left-color: var(--fill-color);\n",
              "    }\n",
              "    20% {\n",
              "      border-color: transparent;\n",
              "      border-left-color: var(--fill-color);\n",
              "      border-top-color: var(--fill-color);\n",
              "    }\n",
              "    30% {\n",
              "      border-color: transparent;\n",
              "      border-left-color: var(--fill-color);\n",
              "      border-top-color: var(--fill-color);\n",
              "      border-right-color: var(--fill-color);\n",
              "    }\n",
              "    40% {\n",
              "      border-color: transparent;\n",
              "      border-right-color: var(--fill-color);\n",
              "      border-top-color: var(--fill-color);\n",
              "    }\n",
              "    60% {\n",
              "      border-color: transparent;\n",
              "      border-right-color: var(--fill-color);\n",
              "    }\n",
              "    80% {\n",
              "      border-color: transparent;\n",
              "      border-right-color: var(--fill-color);\n",
              "      border-bottom-color: var(--fill-color);\n",
              "    }\n",
              "    90% {\n",
              "      border-color: transparent;\n",
              "      border-bottom-color: var(--fill-color);\n",
              "    }\n",
              "  }\n",
              "</style>\n",
              "\n",
              "  <script>\n",
              "    async function quickchart(key) {\n",
              "      const quickchartButtonEl =\n",
              "        document.querySelector('#' + key + ' button');\n",
              "      quickchartButtonEl.disabled = true;  // To prevent multiple clicks.\n",
              "      quickchartButtonEl.classList.add('colab-df-spinner');\n",
              "      try {\n",
              "        const charts = await google.colab.kernel.invokeFunction(\n",
              "            'suggestCharts', [key], {});\n",
              "      } catch (error) {\n",
              "        console.error('Error during call to suggestCharts:', error);\n",
              "      }\n",
              "      quickchartButtonEl.classList.remove('colab-df-spinner');\n",
              "      quickchartButtonEl.classList.add('colab-df-quickchart-complete');\n",
              "    }\n",
              "    (() => {\n",
              "      let quickchartButtonEl =\n",
              "        document.querySelector('#df-f9b526e1-2a6b-4cb6-ab03-ef8a8f9aa595 button');\n",
              "      quickchartButtonEl.style.display =\n",
              "        google.colab.kernel.accessAllowed ? 'block' : 'none';\n",
              "    })();\n",
              "  </script>\n",
              "</div>\n",
              "    </div>\n",
              "  </div>\n"
            ],
            "application/vnd.google.colaboratory.intrinsic+json": {
              "type": "dataframe",
              "variable_name": "train"
            }
          },
          "metadata": {},
          "execution_count": 7
        }
      ]
    },
    {
      "cell_type": "code",
      "source": [
        "X_train = train.loc[:, 1:]\n",
        "y_train = train.loc[:, 0]\n",
        "\n",
        "X_train.shape, y_train.shape"
      ],
      "metadata": {
        "colab": {
          "base_uri": "https://localhost:8080/"
        },
        "id": "xV9-X7xEVsaB",
        "outputId": "d5ee97ab-8b14-4c91-a94c-e550f1c10b0c"
      },
      "execution_count": 8,
      "outputs": [
        {
          "output_type": "execute_result",
          "data": {
            "text/plain": [
              "((62400, 784), (62400,))"
            ]
          },
          "metadata": {},
          "execution_count": 8
        }
      ]
    },
    {
      "cell_type": "markdown",
      "source": [
        "# Reshaping"
      ],
      "metadata": {
        "id": "3Lg2LzRBWMsu"
      }
    },
    {
      "cell_type": "code",
      "source": [
        "def flip_and_rotate(image):\n",
        "    W = 28\n",
        "    H = 28\n",
        "    image = image.reshape(W, H)\n",
        "    image = np.fliplr(image)\n",
        "    image = np.rot90(image)\n",
        "    return image"
      ],
      "metadata": {
        "id": "Nae-jaikWPos"
      },
      "execution_count": 9,
      "outputs": []
    },
    {
      "cell_type": "code",
      "source": [
        "X_train = np.apply_along_axis(flip_and_rotate, 1, X_train.values)\n",
        "X_train = X_train.reshape(-1, 28, 28, 1)\n",
        "X_train.shape"
      ],
      "metadata": {
        "colab": {
          "base_uri": "https://localhost:8080/"
        },
        "id": "cah_NxLBWVV3",
        "outputId": "fe2a7bb9-f23d-4333-c717-bd5403180a91"
      },
      "execution_count": 10,
      "outputs": [
        {
          "output_type": "execute_result",
          "data": {
            "text/plain": [
              "(62400, 28, 28, 1)"
            ]
          },
          "metadata": {},
          "execution_count": 10
        }
      ]
    },
    {
      "cell_type": "code",
      "source": [
        "plt.imshow(X_train[1], cmap='gray')\n",
        "plt.show()"
      ],
      "metadata": {
        "colab": {
          "base_uri": "https://localhost:8080/",
          "height": 430
        },
        "id": "2m0wSinYWfmy",
        "outputId": "a77be49f-3085-46df-f2c9-e9d1ad850ee9"
      },
      "execution_count": 11,
      "outputs": [
        {
          "output_type": "display_data",
          "data": {
            "text/plain": [
              "<Figure size 640x480 with 1 Axes>"
            ],
            "image/png": "[encoded data removed]"
          },
          "metadata": {}
        }
      ]
    },
    {
      "cell_type": "code",
      "source": [
        "X_train = X_train.astype('float32') / 255"
      ],
      "metadata": {
        "id": "Ngjp5UUeX76h"
      },
      "execution_count": 12,
      "outputs": []
    },
    {
      "cell_type": "code",
      "source": [
        "y_train.nunique()"
      ],
      "metadata": {
        "colab": {
          "base_uri": "https://localhost:8080/"
        },
        "id": "EFPUNcWOZfQr",
        "outputId": "498d9cfe-dd6f-48f8-a95d-f9c0dcbd8298"
      },
      "execution_count": 13,
      "outputs": [
        {
          "output_type": "execute_result",
          "data": {
            "text/plain": [
              "26"
            ]
          },
          "metadata": {},
          "execution_count": 13
        }
      ]
    },
    {
      "cell_type": "code",
      "source": [
        "y_train = k.utils.to_categorical(y_train, 36)\n",
        "y_train.shape"
      ],
      "metadata": {
        "colab": {
          "base_uri": "https://localhost:8080/"
        },
        "id": "V9U6VtMZZXvS",
        "outputId": "cae99f58-f51d-4a1f-b887-3895a5875578"
      },
      "execution_count": 14,
      "outputs": [
        {
          "output_type": "execute_result",
          "data": {
            "text/plain": [
              "(62400, 36)"
            ]
          },
          "metadata": {},
          "execution_count": 14
        }
      ]
    },
    {
      "cell_type": "markdown",
      "source": [
        "# Model"
      ],
      "metadata": {
        "id": "3JU3kqmvXeJF"
      }
    },
    {
      "cell_type": "code",
      "source": [
        "X_train, X_test, y_train, y_test = train_test_split(X_train,  y_train, test_size=0.1, random_state=42)"
      ],
      "metadata": {
        "id": "VTyiilIaXfod"
      },
      "execution_count": 15,
      "outputs": []
    },
    {
      "cell_type": "code",
      "source": [
        "model = Sequential()\n",
        "\n",
        "model.add(Conv2D(64, (4, 4), padding='same', activation='relu', input_shape=(28, 28, 1)))\n",
        "model.add(Conv2D(64, (4, 4), padding='same', activation='relu'))\n",
        "model.add(MaxPooling2D(2, 2))\n",
        "model.add(BatchNormalization())\n",
        "\n",
        "model.add(Conv2D(64, (3, 3), padding='same', activation='relu'))\n",
        "model.add(Conv2D(64, (3, 3), padding='same', activation='relu'))\n",
        "model.add(MaxPooling2D(2, 2))\n",
        "model.add(BatchNormalization())\n",
        "\n",
        "model.add(Conv2D(32, (3, 3), padding='same', activation='relu'))\n",
        "model.add(Conv2D(32, (3, 3), padding='same', activation='relu'))\n",
        "model.add(MaxPooling2D(2, 2))\n",
        "model.add(BatchNormalization())\n",
        "\n",
        "model.add(Conv2D(16, (2, 2), padding='same', activation='relu'))\n",
        "model.add(Conv2D(16, (2, 2), padding='same', activation='relu'))\n",
        "model.add(MaxPooling2D(2, 2))\n",
        "model.add(BatchNormalization())\n",
        "\n",
        "model.add(Flatten())\n",
        "\n",
        "model.add(Dense(200, activation='relu'))\n",
        "model.add(Dropout(0.35))\n",
        "model.add(Dense(120, activation='relu'))\n",
        "model.add(Dropout(0.35))\n",
        "model.add(Dense(36, activation='softmax'))\n",
        "\n",
        "model.summary()"
      ],
      "metadata": {
        "colab": {
          "base_uri": "https://localhost:8080/"
        },
        "id": "odmzQQQtQMkc",
        "outputId": "ce22321b-3bfb-4794-a7ea-ae95112a28ac"
      },
      "execution_count": 39,
      "outputs": [
        {
          "output_type": "stream",
          "name": "stdout",
          "text": [
            "Model: \"sequential_6\"\n",
            "_________________________________________________________________\n",
            " Layer (type)                Output Shape              Param #   \n",
            "=================================================================\n",
            " conv2d_46 (Conv2D)          (None, 28, 28, 64)        1088      \n",
            "                                                                 \n",
            " conv2d_47 (Conv2D)          (None, 28, 28, 64)        65600     \n",
            "                                                                 \n",
            " max_pooling2d_23 (MaxPooli  (None, 14, 14, 64)        0         \n",
            " ng2D)                                                           \n",
            "                                                                 \n",
            " batch_normalization_23 (Ba  (None, 14, 14, 64)        256       \n",
            " tchNormalization)                                               \n",
            "                                                                 \n",
            " conv2d_48 (Conv2D)          (None, 14, 14, 64)        36928     \n",
            "                                                                 \n",
            " conv2d_49 (Conv2D)          (None, 14, 14, 64)        36928     \n",
            "                                                                 \n",
            " max_pooling2d_24 (MaxPooli  (None, 7, 7, 64)          0         \n",
            " ng2D)                                                           \n",
            "                                                                 \n",
            " batch_normalization_24 (Ba  (None, 7, 7, 64)          256       \n",
            " tchNormalization)                                               \n",
            "                                                                 \n",
            " conv2d_50 (Conv2D)          (None, 7, 7, 32)          18464     \n",
            "                                                                 \n",
            " conv2d_51 (Conv2D)          (None, 7, 7, 32)          9248      \n",
            "                                                                 \n",
            " max_pooling2d_25 (MaxPooli  (None, 3, 3, 32)          0         \n",
            " ng2D)                                                           \n",
            "                                                                 \n",
            " batch_normalization_25 (Ba  (None, 3, 3, 32)          128       \n",
            " tchNormalization)                                               \n",
            "                                                                 \n",
            " conv2d_52 (Conv2D)          (None, 3, 3, 16)          2064      \n",
            "                                                                 \n",
            " conv2d_53 (Conv2D)          (None, 3, 3, 16)          1040      \n",
            "                                                                 \n",
            " max_pooling2d_26 (MaxPooli  (None, 1, 1, 16)          0         \n",
            " ng2D)                                                           \n",
            "                                                                 \n",
            " batch_normalization_26 (Ba  (None, 1, 1, 16)          64        \n",
            " tchNormalization)                                               \n",
            "                                                                 \n",
            " flatten_6 (Flatten)         (None, 16)                0         \n",
            "                                                                 \n",
            " dense_18 (Dense)            (None, 200)               3400      \n",
            "                                                                 \n",
            " dropout_12 (Dropout)        (None, 200)               0         \n",
            "                                                                 \n",
            " dense_19 (Dense)            (None, 120)               24120     \n",
            "                                                                 \n",
            " dropout_13 (Dropout)        (None, 120)               0         \n",
            "                                                                 \n",
            " dense_20 (Dense)            (None, 36)                4356      \n",
            "                                                                 \n",
            "=================================================================\n",
            "Total params: 203940 (796.64 KB)\n",
            "Trainable params: 203588 (795.27 KB)\n",
            "Non-trainable params: 352 (1.38 KB)\n",
            "_________________________________________________________________\n"
          ]
        }
      ]
    },
    {
      "cell_type": "code",
      "source": [
        "model.compile(optimizer='Adam', loss='categorical_crossentropy', metrics=['accuracy'])\n",
        "history = model.fit(x=X_train, y=y_train, batch_size=30, epochs=5, validation_data=(X_test, y_test))"
      ],
      "metadata": {
        "colab": {
          "base_uri": "https://localhost:8080/"
        },
        "id": "WQKNtQabQTVO",
        "outputId": "af740f0b-bc13-42b2-b806-68b7541da783"
      },
      "execution_count": 40,
      "outputs": [
        {
          "output_type": "stream",
          "name": "stdout",
          "text": [
            "Epoch 1/5\n",
            "1872/1872 [==============================] - 21s 9ms/step - loss: 0.7218 - accuracy: 0.7834 - val_loss: 0.2723 - val_accuracy: 0.9157\n",
            "Epoch 2/5\n",
            "1872/1872 [==============================] - 16s 9ms/step - loss: 0.2792 - accuracy: 0.9152 - val_loss: 0.2100 - val_accuracy: 0.9298\n",
            "Epoch 3/5\n",
            "1872/1872 [==============================] - 16s 9ms/step - loss: 0.2281 - accuracy: 0.9309 - val_loss: 0.1755 - val_accuracy: 0.9357\n",
            "Epoch 4/5\n",
            "1872/1872 [==============================] - 16s 9ms/step - loss: 0.2022 - accuracy: 0.9359 - val_loss: 0.1685 - val_accuracy: 0.9407\n",
            "Epoch 5/5\n",
            "1872/1872 [==============================] - 16s 9ms/step - loss: 0.1865 - accuracy: 0.9410 - val_loss: 0.1497 - val_accuracy: 0.9489\n"
          ]
        }
      ]
    },
    {
      "cell_type": "code",
      "source": [
        "history = model.fit(x=X_train, y=y_train, batch_size=30, epochs=5, validation_data=(X_test, y_test))"
      ],
      "metadata": {
        "colab": {
          "base_uri": "https://localhost:8080/"
        },
        "id": "e9Z36qIQKfgT",
        "outputId": "3416cbeb-fe34-486d-d0ac-611885842e1e"
      },
      "execution_count": 41,
      "outputs": [
        {
          "output_type": "stream",
          "name": "stdout",
          "text": [
            "Epoch 1/5\n",
            "1872/1872 [==============================] - 16s 9ms/step - loss: 0.1710 - accuracy: 0.9447 - val_loss: 0.1525 - val_accuracy: 0.9458\n",
            "Epoch 2/5\n",
            "1872/1872 [==============================] - 16s 9ms/step - loss: 0.1605 - accuracy: 0.9482 - val_loss: 0.1579 - val_accuracy: 0.9434\n",
            "Epoch 3/5\n",
            "1872/1872 [==============================] - 16s 8ms/step - loss: 0.1543 - accuracy: 0.9499 - val_loss: 0.1391 - val_accuracy: 0.9495\n",
            "Epoch 4/5\n",
            "1872/1872 [==============================] - 16s 9ms/step - loss: 0.1423 - accuracy: 0.9539 - val_loss: 0.1379 - val_accuracy: 0.9513\n",
            "Epoch 5/5\n",
            "1872/1872 [==============================] - 16s 9ms/step - loss: 0.1388 - accuracy: 0.9545 - val_loss: 0.1610 - val_accuracy: 0.9465\n"
          ]
        }
      ]
    },
    {
      "cell_type": "code",
      "source": [
        "history = model.fit(x=X_train, y=y_train, batch_size=20, epochs=5, validation_data=(X_test, y_test))"
      ],
      "metadata": {
        "colab": {
          "base_uri": "https://localhost:8080/"
        },
        "id": "XR5wIx-AQbis",
        "outputId": "df076d1b-434d-49b1-9158-81811fa7a66f"
      },
      "execution_count": 42,
      "outputs": [
        {
          "output_type": "stream",
          "name": "stdout",
          "text": [
            "Epoch 1/5\n",
            "2808/2808 [==============================] - 25s 9ms/step - loss: 0.1559 - accuracy: 0.9488 - val_loss: 0.1431 - val_accuracy: 0.9478\n",
            "Epoch 2/5\n",
            "2808/2808 [==============================] - 24s 9ms/step - loss: 0.1495 - accuracy: 0.9501 - val_loss: 0.1450 - val_accuracy: 0.9524\n",
            "Epoch 3/5\n",
            "2808/2808 [==============================] - 24s 9ms/step - loss: 0.1420 - accuracy: 0.9543 - val_loss: 0.1496 - val_accuracy: 0.9529\n",
            "Epoch 4/5\n",
            "2808/2808 [==============================] - 23s 8ms/step - loss: 0.1381 - accuracy: 0.9550 - val_loss: 0.1456 - val_accuracy: 0.9542\n",
            "Epoch 5/5\n",
            "2808/2808 [==============================] - 24s 9ms/step - loss: 0.1343 - accuracy: 0.9563 - val_loss: 0.1422 - val_accuracy: 0.9538\n"
          ]
        }
      ]
    },
    {
      "cell_type": "code",
      "source": [
        "history = model.fit(x=X_train, y=y_train, batch_size=30, epochs=5, validation_data=(X_test, y_test))"
      ],
      "metadata": {
        "colab": {
          "base_uri": "https://localhost:8080/"
        },
        "id": "Fz2Nr5VxP4NG",
        "outputId": "2d1bb3da-abb5-45fd-ac1b-7b3b2dc8a04a"
      },
      "execution_count": 43,
      "outputs": [
        {
          "output_type": "stream",
          "name": "stdout",
          "text": [
            "Epoch 1/5\n",
            "1872/1872 [==============================] - 16s 8ms/step - loss: 0.1034 - accuracy: 0.9638 - val_loss: 0.1349 - val_accuracy: 0.9526\n",
            "Epoch 2/5\n",
            "1872/1872 [==============================] - 16s 8ms/step - loss: 0.1035 - accuracy: 0.9646 - val_loss: 0.1348 - val_accuracy: 0.9551\n",
            "Epoch 3/5\n",
            "1872/1872 [==============================] - 16s 8ms/step - loss: 0.1029 - accuracy: 0.9646 - val_loss: 0.1375 - val_accuracy: 0.9556\n",
            "Epoch 4/5\n",
            "1872/1872 [==============================] - 16s 8ms/step - loss: 0.1002 - accuracy: 0.9652 - val_loss: 0.1427 - val_accuracy: 0.9530\n",
            "Epoch 5/5\n",
            "1872/1872 [==============================] - 16s 9ms/step - loss: 0.0942 - accuracy: 0.9675 - val_loss: 0.1516 - val_accuracy: 0.9537\n"
          ]
        }
      ]
    },
    {
      "cell_type": "code",
      "source": [
        "fig, axes = plt.subplots(1, 2, figsize = (15, 5))\n",
        "\n",
        "axes[0].plot(history.history['accuracy'], label='train')\n",
        "axes[0].plot(history.history['val_accuracy'], label='test')\n",
        "axes[0].set_title('accuracy')\n",
        "\n",
        "axes[1].plot(history.history['loss'], label='train')\n",
        "axes[1].plot(history.history['val_loss'], label='test')\n",
        "axes[1].set_title('loss')\n",
        "\n",
        "plt.legend()\n",
        "plt.show()"
      ],
      "metadata": {
        "colab": {
          "base_uri": "https://localhost:8080/",
          "height": 431
        },
        "id": "EGutcx_ZfRbj",
        "outputId": "9ad25f85-ad7c-43a0-d876-bbffbbfccab1"
      },
      "execution_count": 44,
      "outputs": [
        {
          "output_type": "display_data",
          "data": {
            "text/plain": [
              "<Figure size 1500x500 with 2 Axes>"
            ],
            "image/png": "[encoded data removed]"
          },
          "metadata": {}
        }
      ]
    }
  ]
}